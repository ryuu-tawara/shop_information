{
 "cells": [
  {
   "cell_type": "code",
   "execution_count": 1,
   "id": "f7133081",
   "metadata": {},
   "outputs": [],
   "source": [
    "import requests\n",
    "import json\n",
    "import time\n",
    "import os\n",
    "import sys\n",
    "from tkinter import *\n",
    "from tkinter import ttk"
   ]
  },
  {
   "cell_type": "code",
   "execution_count": 3,
   "id": "fec74021",
   "metadata": {},
   "outputs": [],
   "source": [
    "def execute_gpm(target, query, origin, min_price, max_price):\n",
    "    target_folder = './shop_information/'+ target\n",
    "    if os.path.exists(target_folder):\n",
    "        print(\"has folder\")\n",
    "    else:\n",
    "        print(\"not folder\")"
   ]
  },
  {
   "cell_type": "code",
   "execution_count": 4,
   "id": "87380ba4",
   "metadata": {},
   "outputs": [],
   "source": [
    "# ボックス情報を取得し画面を終了する\n",
    "def quit_gui():\n",
    "    execute_gpm(input_target.get(), input_shop.get(), input_start_spot.get(), input_minprice.get(), input_maxprice.get())\n",
    "    root.destroy()\n",
    "    \n",
    "# 画面を閉じる\n",
    "def close_gui():\n",
    "    root.destroy()\n",
    "    sys.exit()"
   ]
  },
  {
   "cell_type": "code",
   "execution_count": 5,
   "id": "aa77d55e",
   "metadata": {},
   "outputs": [
    {
     "name": "stdout",
     "output_type": "stream",
     "text": [
      "not folder\n"
     ]
    }
   ],
   "source": [
    "# 初期設定\n",
    "root = Tk()\n",
    "root.title(u\"お店情報の取得\")\n",
    "root.geometry(\"800x300\")\n",
    "\n",
    "# ボックス作成\n",
    "label_target = ttk.Label(root, text='対象フォルダ', width=10, anchor=E, font=('ＭＳ 明朝', 12))\n",
    "input_target = ttk.Entry(width=30, font=('ＭＳ 明朝', 10))\n",
    "input_target.insert(END,\"11_25\")\n",
    "\n",
    "label_shop = ttk.Label(root, text='場所 店', width=10, anchor=E, font=('ＭＳ 明朝', 12))\n",
    "input_shop = ttk.Entry(width=30, font=('ＭＳ 明朝', 10))\n",
    "input_shop.insert(END,\"神奈川 川崎市 焼肉\")\n",
    "\n",
    "label_start_spot = ttk.Label(root, text='出発地点', width=10, anchor=E, font=('ＭＳ 明朝', 12))\n",
    "input_start_spot = ttk.Entry(width=80, font=('ＭＳ 明朝', 10))\n",
    "input_start_spot.insert(END,\"神奈川県川崎市中原区小杉町３丁目４９２ 武蔵小杉駅\")\n",
    "\n",
    "label_minprice = ttk.Label(root, text='最低価格level(1～4)', width=20, anchor=E, font=('ＭＳ 明朝', 12))\n",
    "input_minprice = ttk.Entry(width=30, font=('ＭＳ 明朝', 10))\n",
    "\n",
    "label_maxprice = ttk.Label(root, text='最高価格level(1～4)', width=20, anchor=E, font=('ＭＳ 明朝', 12))\n",
    "input_maxprice = ttk.Entry(width=30, font=('ＭＳ 明朝', 10))\n",
    "\n",
    "\n",
    "\n",
    "send_button = Button(text=\"実行\", width=5, command=quit_gui, font=('ＭＳ 明朝', 10))\n",
    "\n",
    "# レイアウト\n",
    "label_target.grid(row=0, column=0, padx=8, pady=20)\n",
    "input_target.grid(row=0, column=1, padx=0, pady=5)\n",
    "label_shop.grid(row=1, column=0, padx=8, pady=5)\n",
    "input_shop.grid(row=1, column=1, padx=0, pady=5)\n",
    "label_start_spot.grid(row=2, column=0, padx=8, pady=5)\n",
    "input_start_spot.grid(row=2, column=1, padx=0, pady=5)\n",
    "label_minprice.grid(row=3, column=0, padx=0, pady=5)\n",
    "input_minprice.grid(row=3, column=1, padx=0, pady=5)\n",
    "label_maxprice.grid(row=4, column=0, padx=0, pady=5)\n",
    "input_maxprice.grid(row=4, column=1, padx=0, pady=5)\n",
    "send_button.grid(row=5, column=1, padx=0, pady=5)\n",
    "\n",
    "# 実行\n",
    "root.protocol(\"WM_DELETE_WINDOW\", close_gui)\n",
    "root.mainloop()"
   ]
  },
  {
   "cell_type": "code",
   "execution_count": null,
   "id": "05089e9e",
   "metadata": {},
   "outputs": [],
   "source": []
  }
 ],
 "metadata": {
  "kernelspec": {
   "display_name": "Python 3 (ipykernel)",
   "language": "python",
   "name": "python3"
  },
  "language_info": {
   "codemirror_mode": {
    "name": "ipython",
    "version": 3
   },
   "file_extension": ".py",
   "mimetype": "text/x-python",
   "name": "python",
   "nbconvert_exporter": "python",
   "pygments_lexer": "ipython3",
   "version": "3.10.9"
  }
 },
 "nbformat": 4,
 "nbformat_minor": 5
}
